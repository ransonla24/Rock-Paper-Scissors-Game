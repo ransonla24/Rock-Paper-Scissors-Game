{
 "cells": [
  {
   "cell_type": "markdown",
   "id": "de0bc2f9-d082-4dec-b8fd-817e635cd46b",
   "metadata": {},
   "source": [
    "Welcome to Rock Paper Scissors Game!\n",
    "\n",
    "The rules are as follows: \n",
    "\n",
    "- Rock beats scissors\n",
    "- Scissors beats paper\n",
    "- Paper beats rock "
   ]
  },
  {
   "cell_type": "code",
   "execution_count": 2,
   "id": "a509adfc-2968-4ce9-a434-3cfa4028d7e8",
   "metadata": {},
   "outputs": [],
   "source": [
    "import random as rand"
   ]
  },
  {
   "cell_type": "code",
   "execution_count": 14,
   "id": "51b5ce35-f4a1-4d56-a726-ff7a5d42b887",
   "metadata": {},
   "outputs": [
    {
     "name": "stdin",
     "output_type": "stream",
     "text": [
      "Do you pick rock, scissors, or paper? dog\n"
     ]
    },
    {
     "name": "stdout",
     "output_type": "stream",
     "text": [
      "Enter a valid selection.\n",
      "Computer response: rock.\n"
     ]
    }
   ],
   "source": [
    "user_input = input(\"Do you pick rock, scissors, or paper?\").lower()\n",
    "user_input = user_input.strip()\n",
    "\n",
    "options_list = [\"rock\", \"paper\", \"scissors\"]\n",
    "computer_input = options_list[rand.randint(0,2)] # will generate one of the list items randomly\n",
    "\n",
    "def rock_paper_scissors(x) : \n",
    "    while x in options_list :\n",
    "        if x ==  computer_input :\n",
    "            print(\"You win!\")\n",
    "            break \n",
    "        else : \n",
    "            print(\"You lose.\")  \n",
    "            break\n",
    "    else: \n",
    "        print(\"Enter a valid selection.\")\n",
    "\n",
    "rock_paper_scissors(user_input)\n",
    "print(f\"Computer response: {computer_input}.\")"
   ]
  },
  {
   "cell_type": "code",
   "execution_count": null,
   "id": "c5d764fd-87fa-4e20-89e3-cbe2e83c24a4",
   "metadata": {},
   "outputs": [],
   "source": [
    "\n",
    "\n"
   ]
  },
  {
   "cell_type": "code",
   "execution_count": null,
   "id": "2ca85aa0-01c4-43ca-8794-4d46dc1ddc38",
   "metadata": {},
   "outputs": [],
   "source": []
  },
  {
   "cell_type": "code",
   "execution_count": null,
   "id": "49e209a2-f9a7-4db4-806a-fc337fecb747",
   "metadata": {},
   "outputs": [],
   "source": []
  }
 ],
 "metadata": {
  "kernelspec": {
   "display_name": "Python 3 (ipykernel)",
   "language": "python",
   "name": "python3"
  },
  "language_info": {
   "codemirror_mode": {
    "name": "ipython",
    "version": 3
   },
   "file_extension": ".py",
   "mimetype": "text/x-python",
   "name": "python",
   "nbconvert_exporter": "python",
   "pygments_lexer": "ipython3",
   "version": "3.11.7"
  }
 },
 "nbformat": 4,
 "nbformat_minor": 5
}
